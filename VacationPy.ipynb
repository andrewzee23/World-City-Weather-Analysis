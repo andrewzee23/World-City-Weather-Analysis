{
 "cells": [
  {
   "cell_type": "markdown",
   "metadata": {},
   "source": [
    "# VacationPy\n",
    "----\n",
    "\n",
    "#### Note\n",
    "* Instructions have been included for each segment. You do not have to follow them exactly, but they are included to help you think through the steps."
   ]
  },
  {
   "cell_type": "code",
   "execution_count": 1,
   "metadata": {},
   "outputs": [],
   "source": [
    "# Dependencies and Setup\n",
    "import matplotlib.pyplot as plt\n",
    "import pandas as pd\n",
    "import numpy as np\n",
    "import requests\n",
    "import gmaps\n",
    "import os\n",
    "\n",
    "# Import API key\n",
    "from api_keys import g_key"
   ]
  },
  {
   "cell_type": "markdown",
   "metadata": {},
   "source": [
    "### Store Part I results into DataFrame\n",
    "* Load the csv exported in Part I to a DataFrame"
   ]
  },
  {
   "cell_type": "code",
   "execution_count": 2,
   "metadata": {},
   "outputs": [
    {
     "output_type": "execute_result",
     "data": {
      "text/plain": "     Unnamed: 0            City  Cloudiness Country        Date  Humidity  \\\n0             0        Khatanga           1      RU  1597435367        57   \n1             1          Castro          42      BR  1597435221        75   \n2             2  Ribeira Grande          40      PT  1597435370        83   \n3             3      Bachaquero          53      VE  1597435371        61   \n4             4          Hasaki          20      JP  1597435305       100   \n..          ...             ...         ...     ...         ...       ...   \n573         573       Teluknaga          40      ID  1597436066        75   \n574         574        Sheridan           1      US  1597436068        16   \n575         575            Luau           0      AO  1597436069        24   \n576         576        Menongue           0      AO  1597436070        30   \n577         577      Karlskrona           0      SE  1597436071        87   \n\n       Lat     Lng  Max Temp  Wind Speed  \n0    71.97  102.50     49.55       15.59  \n1   -24.79  -50.01     69.58        5.10  \n2    38.52  -28.70     75.20       11.41  \n3     9.97  -71.15     89.24        8.70  \n4    35.73  140.83     78.80        3.36  \n..     ...     ...       ...         ...  \n573  -6.10  106.64     78.01        5.82  \n574  44.83 -106.92     80.01       10.29  \n575 -10.71   22.22     68.29        3.38  \n576 -14.66   17.69     58.57        4.61  \n577  56.16   15.59     60.80        3.42  \n\n[578 rows x 10 columns]",
      "text/html": "<div>\n<style scoped>\n    .dataframe tbody tr th:only-of-type {\n        vertical-align: middle;\n    }\n\n    .dataframe tbody tr th {\n        vertical-align: top;\n    }\n\n    .dataframe thead th {\n        text-align: right;\n    }\n</style>\n<table border=\"1\" class=\"dataframe\">\n  <thead>\n    <tr style=\"text-align: right;\">\n      <th></th>\n      <th>Unnamed: 0</th>\n      <th>City</th>\n      <th>Cloudiness</th>\n      <th>Country</th>\n      <th>Date</th>\n      <th>Humidity</th>\n      <th>Lat</th>\n      <th>Lng</th>\n      <th>Max Temp</th>\n      <th>Wind Speed</th>\n    </tr>\n  </thead>\n  <tbody>\n    <tr>\n      <th>0</th>\n      <td>0</td>\n      <td>Khatanga</td>\n      <td>1</td>\n      <td>RU</td>\n      <td>1597435367</td>\n      <td>57</td>\n      <td>71.97</td>\n      <td>102.50</td>\n      <td>49.55</td>\n      <td>15.59</td>\n    </tr>\n    <tr>\n      <th>1</th>\n      <td>1</td>\n      <td>Castro</td>\n      <td>42</td>\n      <td>BR</td>\n      <td>1597435221</td>\n      <td>75</td>\n      <td>-24.79</td>\n      <td>-50.01</td>\n      <td>69.58</td>\n      <td>5.10</td>\n    </tr>\n    <tr>\n      <th>2</th>\n      <td>2</td>\n      <td>Ribeira Grande</td>\n      <td>40</td>\n      <td>PT</td>\n      <td>1597435370</td>\n      <td>83</td>\n      <td>38.52</td>\n      <td>-28.70</td>\n      <td>75.20</td>\n      <td>11.41</td>\n    </tr>\n    <tr>\n      <th>3</th>\n      <td>3</td>\n      <td>Bachaquero</td>\n      <td>53</td>\n      <td>VE</td>\n      <td>1597435371</td>\n      <td>61</td>\n      <td>9.97</td>\n      <td>-71.15</td>\n      <td>89.24</td>\n      <td>8.70</td>\n    </tr>\n    <tr>\n      <th>4</th>\n      <td>4</td>\n      <td>Hasaki</td>\n      <td>20</td>\n      <td>JP</td>\n      <td>1597435305</td>\n      <td>100</td>\n      <td>35.73</td>\n      <td>140.83</td>\n      <td>78.80</td>\n      <td>3.36</td>\n    </tr>\n    <tr>\n      <th>...</th>\n      <td>...</td>\n      <td>...</td>\n      <td>...</td>\n      <td>...</td>\n      <td>...</td>\n      <td>...</td>\n      <td>...</td>\n      <td>...</td>\n      <td>...</td>\n      <td>...</td>\n    </tr>\n    <tr>\n      <th>573</th>\n      <td>573</td>\n      <td>Teluknaga</td>\n      <td>40</td>\n      <td>ID</td>\n      <td>1597436066</td>\n      <td>75</td>\n      <td>-6.10</td>\n      <td>106.64</td>\n      <td>78.01</td>\n      <td>5.82</td>\n    </tr>\n    <tr>\n      <th>574</th>\n      <td>574</td>\n      <td>Sheridan</td>\n      <td>1</td>\n      <td>US</td>\n      <td>1597436068</td>\n      <td>16</td>\n      <td>44.83</td>\n      <td>-106.92</td>\n      <td>80.01</td>\n      <td>10.29</td>\n    </tr>\n    <tr>\n      <th>575</th>\n      <td>575</td>\n      <td>Luau</td>\n      <td>0</td>\n      <td>AO</td>\n      <td>1597436069</td>\n      <td>24</td>\n      <td>-10.71</td>\n      <td>22.22</td>\n      <td>68.29</td>\n      <td>3.38</td>\n    </tr>\n    <tr>\n      <th>576</th>\n      <td>576</td>\n      <td>Menongue</td>\n      <td>0</td>\n      <td>AO</td>\n      <td>1597436070</td>\n      <td>30</td>\n      <td>-14.66</td>\n      <td>17.69</td>\n      <td>58.57</td>\n      <td>4.61</td>\n    </tr>\n    <tr>\n      <th>577</th>\n      <td>577</td>\n      <td>Karlskrona</td>\n      <td>0</td>\n      <td>SE</td>\n      <td>1597436071</td>\n      <td>87</td>\n      <td>56.16</td>\n      <td>15.59</td>\n      <td>60.80</td>\n      <td>3.42</td>\n    </tr>\n  </tbody>\n</table>\n<p>578 rows × 10 columns</p>\n</div>"
     },
     "metadata": {},
     "execution_count": 2
    }
   ],
   "source": [
    "cities = pd.read_csv('cities.csv')\n",
    "cities.head()\n",
    "cities"
   ]
  },
  {
   "cell_type": "markdown",
   "metadata": {},
   "source": [
    "### Humidity Heatmap\n",
    "* Configure gmaps.\n",
    "* Use the Lat and Lng as locations and Humidity as the weight.\n",
    "* Add Heatmap layer to map."
   ]
  },
  {
   "cell_type": "code",
   "execution_count": 3,
   "metadata": {},
   "outputs": [],
   "source": [
    "humidity = cities['Humidity'].astype(float)\n",
    "max_humidity = humidity.max()\n",
    "locats = cities[['Lat', 'Lng']]"
   ]
  },
  {
   "cell_type": "code",
   "execution_count": 4,
   "metadata": {},
   "outputs": [
    {
     "output_type": "display_data",
     "data": {
      "text/plain": "Figure(layout=FigureLayout(height='420px'))",
      "application/vnd.jupyter.widget-view+json": {
       "version_major": 2,
       "version_minor": 0,
       "model_id": "549d2c88adf147acbd65113ecf654998"
      }
     },
     "metadata": {}
    }
   ],
   "source": [
    "fig = gmaps.figure()\n",
    "heat_layer = gmaps.heatmap_layer(locats, weights=humidity,dissipating=False, max_intensity=max_humidity,point_radius=3)\n",
    "fig.add_layer(heat_layer)\n",
    "fig"
   ]
  },
  {
   "cell_type": "markdown",
   "metadata": {},
   "source": [
    "### Create new DataFrame fitting weather criteria\n",
    "* Narrow down the cities to fit weather conditions.\n",
    "* Drop any rows will null values."
   ]
  },
  {
   "cell_type": "code",
   "execution_count": 7,
   "metadata": {},
   "outputs": [
    {
     "output_type": "execute_result",
     "data": {
      "text/plain": "   Unnamed: 0       City  Cloudiness Country        Date  Humidity    Lat  \\\n0          24      Makat           0      KZ  1597435397        41  47.65   \n1         119  Caravelas           0      BR  1597435512        76 -17.71   \n2         155     Magnor           0      SE  1597435555        64  59.95   \n3         222       Auki           0      SB  1597435636        82  -8.77   \n4         241      Iclod           0      RO  1597435658        56  46.98   \n\n      Lng  Max Temp  Wind Speed  \n0   53.35     73.87        8.48  \n1  -39.25     74.30        6.64  \n2   12.20     71.60        5.82  \n3  160.70     77.52        2.21  \n4   23.80     75.00        2.24  ",
      "text/html": "<div>\n<style scoped>\n    .dataframe tbody tr th:only-of-type {\n        vertical-align: middle;\n    }\n\n    .dataframe tbody tr th {\n        vertical-align: top;\n    }\n\n    .dataframe thead th {\n        text-align: right;\n    }\n</style>\n<table border=\"1\" class=\"dataframe\">\n  <thead>\n    <tr style=\"text-align: right;\">\n      <th></th>\n      <th>Unnamed: 0</th>\n      <th>City</th>\n      <th>Cloudiness</th>\n      <th>Country</th>\n      <th>Date</th>\n      <th>Humidity</th>\n      <th>Lat</th>\n      <th>Lng</th>\n      <th>Max Temp</th>\n      <th>Wind Speed</th>\n    </tr>\n  </thead>\n  <tbody>\n    <tr>\n      <th>0</th>\n      <td>24</td>\n      <td>Makat</td>\n      <td>0</td>\n      <td>KZ</td>\n      <td>1597435397</td>\n      <td>41</td>\n      <td>47.65</td>\n      <td>53.35</td>\n      <td>73.87</td>\n      <td>8.48</td>\n    </tr>\n    <tr>\n      <th>1</th>\n      <td>119</td>\n      <td>Caravelas</td>\n      <td>0</td>\n      <td>BR</td>\n      <td>1597435512</td>\n      <td>76</td>\n      <td>-17.71</td>\n      <td>-39.25</td>\n      <td>74.30</td>\n      <td>6.64</td>\n    </tr>\n    <tr>\n      <th>2</th>\n      <td>155</td>\n      <td>Magnor</td>\n      <td>0</td>\n      <td>SE</td>\n      <td>1597435555</td>\n      <td>64</td>\n      <td>59.95</td>\n      <td>12.20</td>\n      <td>71.60</td>\n      <td>5.82</td>\n    </tr>\n    <tr>\n      <th>3</th>\n      <td>222</td>\n      <td>Auki</td>\n      <td>0</td>\n      <td>SB</td>\n      <td>1597435636</td>\n      <td>82</td>\n      <td>-8.77</td>\n      <td>160.70</td>\n      <td>77.52</td>\n      <td>2.21</td>\n    </tr>\n    <tr>\n      <th>4</th>\n      <td>241</td>\n      <td>Iclod</td>\n      <td>0</td>\n      <td>RO</td>\n      <td>1597435658</td>\n      <td>56</td>\n      <td>46.98</td>\n      <td>23.80</td>\n      <td>75.00</td>\n      <td>2.24</td>\n    </tr>\n  </tbody>\n</table>\n</div>"
     },
     "metadata": {},
     "execution_count": 7
    }
   ],
   "source": [
    "poss_cities_df = cities.loc[(cities['Max Temp'] > 70) & (cities['Max Temp'] < 80) & (cities['Cloudiness'] == 0), :]\n",
    "poss_cities_df = poss_cities_df.dropna(how='any')\n",
    "poss_cities_df.reset_index(inplace=True)\n",
    "del poss_cities_df['index']\n",
    "hotel_df = poss_cities_df\n",
    "hotel_df.head()"
   ]
  },
  {
   "cell_type": "markdown",
   "metadata": {},
   "source": [
    "### Hotel Map\n",
    "* Store into variable named `hotel_df`.\n",
    "* Add a \"Hotel Name\" column to the DataFrame.\n",
    "* Set parameters to search for hotels with 5000 meters.\n",
    "* Hit the Google Places API for each city's coordinates.\n",
    "* Store the first Hotel result into the DataFrame.\n",
    "* Plot markers on top of the heatmap."
   ]
  },
  {
   "cell_type": "code",
   "execution_count": 8,
   "metadata": {},
   "outputs": [
    {
     "output_type": "execute_result",
     "data": {
      "text/plain": "   Unnamed: 0       City  Cloudiness Country        Date  Humidity    Lat  \\\n0          24      Makat           0      KZ  1597435397        41  47.65   \n1         119  Caravelas           0      BR  1597435512        76 -17.71   \n2         155     Magnor           0      SE  1597435555        64  59.95   \n3         222       Auki           0      SB  1597435636        82  -8.77   \n4         241      Iclod           0      RO  1597435658        56  46.98   \n\n      Lng  Max Temp  Wind Speed Hotel Name  \n0   53.35     73.87        8.48             \n1  -39.25     74.30        6.64             \n2   12.20     71.60        5.82             \n3  160.70     77.52        2.21             \n4   23.80     75.00        2.24             ",
      "text/html": "<div>\n<style scoped>\n    .dataframe tbody tr th:only-of-type {\n        vertical-align: middle;\n    }\n\n    .dataframe tbody tr th {\n        vertical-align: top;\n    }\n\n    .dataframe thead th {\n        text-align: right;\n    }\n</style>\n<table border=\"1\" class=\"dataframe\">\n  <thead>\n    <tr style=\"text-align: right;\">\n      <th></th>\n      <th>Unnamed: 0</th>\n      <th>City</th>\n      <th>Cloudiness</th>\n      <th>Country</th>\n      <th>Date</th>\n      <th>Humidity</th>\n      <th>Lat</th>\n      <th>Lng</th>\n      <th>Max Temp</th>\n      <th>Wind Speed</th>\n      <th>Hotel Name</th>\n    </tr>\n  </thead>\n  <tbody>\n    <tr>\n      <th>0</th>\n      <td>24</td>\n      <td>Makat</td>\n      <td>0</td>\n      <td>KZ</td>\n      <td>1597435397</td>\n      <td>41</td>\n      <td>47.65</td>\n      <td>53.35</td>\n      <td>73.87</td>\n      <td>8.48</td>\n      <td></td>\n    </tr>\n    <tr>\n      <th>1</th>\n      <td>119</td>\n      <td>Caravelas</td>\n      <td>0</td>\n      <td>BR</td>\n      <td>1597435512</td>\n      <td>76</td>\n      <td>-17.71</td>\n      <td>-39.25</td>\n      <td>74.30</td>\n      <td>6.64</td>\n      <td></td>\n    </tr>\n    <tr>\n      <th>2</th>\n      <td>155</td>\n      <td>Magnor</td>\n      <td>0</td>\n      <td>SE</td>\n      <td>1597435555</td>\n      <td>64</td>\n      <td>59.95</td>\n      <td>12.20</td>\n      <td>71.60</td>\n      <td>5.82</td>\n      <td></td>\n    </tr>\n    <tr>\n      <th>3</th>\n      <td>222</td>\n      <td>Auki</td>\n      <td>0</td>\n      <td>SB</td>\n      <td>1597435636</td>\n      <td>82</td>\n      <td>-8.77</td>\n      <td>160.70</td>\n      <td>77.52</td>\n      <td>2.21</td>\n      <td></td>\n    </tr>\n    <tr>\n      <th>4</th>\n      <td>241</td>\n      <td>Iclod</td>\n      <td>0</td>\n      <td>RO</td>\n      <td>1597435658</td>\n      <td>56</td>\n      <td>46.98</td>\n      <td>23.80</td>\n      <td>75.00</td>\n      <td>2.24</td>\n      <td></td>\n    </tr>\n  </tbody>\n</table>\n</div>"
     },
     "metadata": {},
     "execution_count": 8
    }
   ],
   "source": [
    "hotellist = []\n",
    "\n",
    "for i in range(len(hotel_df)):\n",
    "    \n",
    "    lat = hotel_df.loc[i]['Lat']\n",
    "    lng = hotel_df.loc[i]['Lng']\n",
    "    \n",
    "    params = {\n",
    "        \"location\": f\"{lat},{lng}\",\n",
    "        \"radius\": 5000,\n",
    "        \"types\" : \"hotel\",\n",
    "        \"key\": g_key\n",
    "    }\n",
    "\n",
    "    base_url = \"https://maps.googleapis.com/maps/api/place/nearbysearch/json\"\n",
    "    request = requests.get(base_url, params=params)\n",
    "    json = request.json()\n",
    "    try:\n",
    "        hotellist.append(jsn['results'][0]['name'])\n",
    "    except:\n",
    "        hotellist.append('')\n",
    "hotel_df['Hotel Name'] = hotellist\n",
    "hotel_df = hotel_df.dropna(how='any')\n",
    "hotel_df.head()"
   ]
  },
  {
   "cell_type": "code",
   "execution_count": 9,
   "metadata": {},
   "outputs": [],
   "source": [
    "# NOTE: Do not change any of the code in this cell\n",
    "\n",
    "# Using the template add the hotel marks to the heatmap\n",
    "info_box_template = \"\"\"\n",
    "<dl>\n",
    "<dt>Name</dt><dd>{Hotel Name}</dd>\n",
    "<dt>City</dt><dd>{City}</dd>\n",
    "<dt>Country</dt><dd>{Country}</dd>\n",
    "</dl>\n",
    "\"\"\"\n",
    "# Store the DataFrame Row\n",
    "# NOTE: be sure to update with your DataFrame name\n",
    "hotel_info = [info_box_template.format(**row) for index, row in hotel_df.iterrows()]\n",
    "locations = hotel_df[[\"Lat\", \"Lng\"]]"
   ]
  },
  {
   "cell_type": "code",
   "execution_count": 10,
   "metadata": {},
   "outputs": [
    {
     "output_type": "display_data",
     "data": {
      "text/plain": "Figure(layout=FigureLayout(height='420px'))",
      "application/vnd.jupyter.widget-view+json": {
       "version_major": 2,
       "version_minor": 0,
       "model_id": "549d2c88adf147acbd65113ecf654998"
      }
     },
     "metadata": {}
    }
   ],
   "source": [
    "# Add marker layer ontop of heat map\n",
    "markers = gmaps.marker_layer(locats)\n",
    "fig.add_layer(markers)\n",
    "fig\n",
    "\n",
    "# Display figure\n"
   ]
  },
  {
   "cell_type": "code",
   "execution_count": null,
   "metadata": {},
   "outputs": [],
   "source": []
  }
 ],
 "metadata": {
  "kernelspec": {
   "display_name": "Python 3.6.10 64-bit ('PythonData': conda)",
   "language": "python",
   "name": "python_defaultSpec_1597448775926"
  },
  "language_info": {
   "codemirror_mode": {
    "name": "ipython",
    "version": 3
   },
   "file_extension": ".py",
   "mimetype": "text/x-python",
   "name": "python",
   "nbconvert_exporter": "python",
   "pygments_lexer": "ipython3",
   "version": "3.6.10-final"
  },
  "latex_envs": {
   "LaTeX_envs_menu_present": true,
   "autoclose": false,
   "autocomplete": true,
   "bibliofile": "biblio.bib",
   "cite_by": "apalike",
   "current_citInitial": 1,
   "eqLabelWithNumbers": true,
   "eqNumInitial": 1,
   "hotkeys": {
    "equation": "Ctrl-E",
    "itemize": "Ctrl-I"
   },
   "labels_anchors": false,
   "latex_user_defs": false,
   "report_style_numbering": false,
   "user_envs_cfg": false
  }
 },
 "nbformat": 4,
 "nbformat_minor": 2
}