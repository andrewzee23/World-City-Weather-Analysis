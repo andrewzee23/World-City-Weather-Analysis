{
 "cells": [
  {
   "cell_type": "markdown",
   "metadata": {},
   "source": [
    "# VacationPy\n",
    "----\n",
    "\n",
    "#### Note\n",
    "* Instructions have been included for each segment. You do not have to follow them exactly, but they are included to help you think through the steps."
   ]
  },
  {
   "cell_type": "code",
   "execution_count": 1,
   "metadata": {},
   "outputs": [],
   "source": [
    "# Dependencies and Setup\n",
    "import matplotlib.pyplot as plt\n",
    "import pandas as pd\n",
    "import numpy as np\n",
    "import requests\n",
    "import gmaps\n",
    "import os\n",
    "\n",
    "# Import API key\n",
    "from api_keys import g_key"
   ]
  },
  {
   "cell_type": "markdown",
   "metadata": {},
   "source": [
    "### Store Part I results into DataFrame\n",
    "* Load the csv exported in Part I to a DataFrame"
   ]
  },
  {
   "cell_type": "code",
   "execution_count": 2,
   "metadata": {},
   "outputs": [
    {
     "output_type": "execute_result",
     "data": {
      "text/plain": "     Unnamed: 0          City  Cloudiness Country        Date  Humidity  \\\n0             0        Atuona           3      PF  1597780296        74   \n1             1       Te Anau         100      NZ  1597780296        89   \n2             2       Mataura         100      NZ  1597780297        81   \n3             3       Rikitea           0      PF  1597780297        79   \n4             4  Saint George           1      US  1597780297        13   \n..          ...           ...         ...     ...         ...       ...   \n547         547       Sibolga         100      ID  1597780390        79   \n548         548     Churapcha           0      RU  1597780391        64   \n549         549    Ngorongoro          46      TZ  1597780391        64   \n550         550     Okitipupa           0      NG  1597780391        92   \n551         551       Bubaque         100      GW  1597780391        85   \n\n       Lat     Lng  Max Temp  Wind Speed  \n0    -9.80 -139.03     79.20       21.50  \n1   -45.42  167.72     42.94        2.10  \n2   -46.19  168.86     43.84        5.08  \n3   -23.12 -134.97     72.05       10.85  \n4    37.10 -113.58    106.00        6.17  \n..     ...     ...       ...         ...  \n547   1.74   98.78     77.41        2.75  \n548  62.00  132.43     42.82        4.50  \n549  -3.24   35.49     52.75        6.33  \n550   6.50    4.78     73.51        4.05  \n551  11.28  -15.83     81.36       17.90  \n\n[552 rows x 10 columns]",
      "text/html": "<div>\n<style scoped>\n    .dataframe tbody tr th:only-of-type {\n        vertical-align: middle;\n    }\n\n    .dataframe tbody tr th {\n        vertical-align: top;\n    }\n\n    .dataframe thead th {\n        text-align: right;\n    }\n</style>\n<table border=\"1\" class=\"dataframe\">\n  <thead>\n    <tr style=\"text-align: right;\">\n      <th></th>\n      <th>Unnamed: 0</th>\n      <th>City</th>\n      <th>Cloudiness</th>\n      <th>Country</th>\n      <th>Date</th>\n      <th>Humidity</th>\n      <th>Lat</th>\n      <th>Lng</th>\n      <th>Max Temp</th>\n      <th>Wind Speed</th>\n    </tr>\n  </thead>\n  <tbody>\n    <tr>\n      <th>0</th>\n      <td>0</td>\n      <td>Atuona</td>\n      <td>3</td>\n      <td>PF</td>\n      <td>1597780296</td>\n      <td>74</td>\n      <td>-9.80</td>\n      <td>-139.03</td>\n      <td>79.20</td>\n      <td>21.50</td>\n    </tr>\n    <tr>\n      <th>1</th>\n      <td>1</td>\n      <td>Te Anau</td>\n      <td>100</td>\n      <td>NZ</td>\n      <td>1597780296</td>\n      <td>89</td>\n      <td>-45.42</td>\n      <td>167.72</td>\n      <td>42.94</td>\n      <td>2.10</td>\n    </tr>\n    <tr>\n      <th>2</th>\n      <td>2</td>\n      <td>Mataura</td>\n      <td>100</td>\n      <td>NZ</td>\n      <td>1597780297</td>\n      <td>81</td>\n      <td>-46.19</td>\n      <td>168.86</td>\n      <td>43.84</td>\n      <td>5.08</td>\n    </tr>\n    <tr>\n      <th>3</th>\n      <td>3</td>\n      <td>Rikitea</td>\n      <td>0</td>\n      <td>PF</td>\n      <td>1597780297</td>\n      <td>79</td>\n      <td>-23.12</td>\n      <td>-134.97</td>\n      <td>72.05</td>\n      <td>10.85</td>\n    </tr>\n    <tr>\n      <th>4</th>\n      <td>4</td>\n      <td>Saint George</td>\n      <td>1</td>\n      <td>US</td>\n      <td>1597780297</td>\n      <td>13</td>\n      <td>37.10</td>\n      <td>-113.58</td>\n      <td>106.00</td>\n      <td>6.17</td>\n    </tr>\n    <tr>\n      <th>...</th>\n      <td>...</td>\n      <td>...</td>\n      <td>...</td>\n      <td>...</td>\n      <td>...</td>\n      <td>...</td>\n      <td>...</td>\n      <td>...</td>\n      <td>...</td>\n      <td>...</td>\n    </tr>\n    <tr>\n      <th>547</th>\n      <td>547</td>\n      <td>Sibolga</td>\n      <td>100</td>\n      <td>ID</td>\n      <td>1597780390</td>\n      <td>79</td>\n      <td>1.74</td>\n      <td>98.78</td>\n      <td>77.41</td>\n      <td>2.75</td>\n    </tr>\n    <tr>\n      <th>548</th>\n      <td>548</td>\n      <td>Churapcha</td>\n      <td>0</td>\n      <td>RU</td>\n      <td>1597780391</td>\n      <td>64</td>\n      <td>62.00</td>\n      <td>132.43</td>\n      <td>42.82</td>\n      <td>4.50</td>\n    </tr>\n    <tr>\n      <th>549</th>\n      <td>549</td>\n      <td>Ngorongoro</td>\n      <td>46</td>\n      <td>TZ</td>\n      <td>1597780391</td>\n      <td>64</td>\n      <td>-3.24</td>\n      <td>35.49</td>\n      <td>52.75</td>\n      <td>6.33</td>\n    </tr>\n    <tr>\n      <th>550</th>\n      <td>550</td>\n      <td>Okitipupa</td>\n      <td>0</td>\n      <td>NG</td>\n      <td>1597780391</td>\n      <td>92</td>\n      <td>6.50</td>\n      <td>4.78</td>\n      <td>73.51</td>\n      <td>4.05</td>\n    </tr>\n    <tr>\n      <th>551</th>\n      <td>551</td>\n      <td>Bubaque</td>\n      <td>100</td>\n      <td>GW</td>\n      <td>1597780391</td>\n      <td>85</td>\n      <td>11.28</td>\n      <td>-15.83</td>\n      <td>81.36</td>\n      <td>17.90</td>\n    </tr>\n  </tbody>\n</table>\n<p>552 rows × 10 columns</p>\n</div>"
     },
     "metadata": {},
     "execution_count": 2
    }
   ],
   "source": [
    "cities = pd.read_csv('cities.csv')\n",
    "cities.head()\n",
    "cities"
   ]
  },
  {
   "cell_type": "markdown",
   "metadata": {},
   "source": [
    "### Humidity Heatmap\n",
    "* Configure gmaps.\n",
    "* Use the Lat and Lng as locations and Humidity as the weight.\n",
    "* Add Heatmap layer to map."
   ]
  },
  {
   "cell_type": "code",
   "execution_count": 3,
   "metadata": {},
   "outputs": [],
   "source": [
    "humidity = cities['Humidity'].astype(float)\n",
    "max_humidity = humidity.max()\n",
    "locats = cities[['Lat', 'Lng']]"
   ]
  },
  {
   "cell_type": "code",
   "execution_count": 4,
   "metadata": {},
   "outputs": [
    {
     "output_type": "display_data",
     "data": {
      "text/plain": "Figure(layout=FigureLayout(height='420px'))",
      "application/vnd.jupyter.widget-view+json": {
       "version_major": 2,
       "version_minor": 0,
       "model_id": "1f19ecb87e47433e93a69a12278bb555"
      }
     },
     "metadata": {}
    }
   ],
   "source": [
    "fig = gmaps.figure()\n",
    "heat_layer = gmaps.heatmap_layer(locats, weights=humidity,dissipating=False, max_intensity=max_humidity,point_radius=3)\n",
    "fig.add_layer(heat_layer)\n",
    "fig"
   ]
  },
  {
   "cell_type": "markdown",
   "metadata": {},
   "source": [
    "### Create new DataFrame fitting weather criteria\n",
    "* Narrow down the cities to fit weather conditions.\n",
    "* Drop any rows will null values."
   ]
  },
  {
   "cell_type": "code",
   "execution_count": 5,
   "metadata": {},
   "outputs": [
    {
     "output_type": "execute_result",
     "data": {
      "text/plain": "   Unnamed: 0     City  Cloudiness Country        Date  Humidity    Lat  \\\n0           3  Rikitea           0      PF  1597780297        79 -23.12   \n1          27   Faanui           0      PF  1597780202        78 -16.48   \n2         122     Safi           0      MA  1597780318        79  32.30   \n3         124  Malanje           0      AO  1597780319        45  -9.54   \n4         168     Lata           0      PT  1597780326        67  40.16   \n\n      Lng  Max Temp  Wind Speed  \n0 -134.97     72.05       10.85  \n1 -151.75     78.30       18.34  \n2   -9.24     72.01       19.80  \n3   16.34     70.65        6.91  \n4   -8.33     73.99        5.99  ",
      "text/html": "<div>\n<style scoped>\n    .dataframe tbody tr th:only-of-type {\n        vertical-align: middle;\n    }\n\n    .dataframe tbody tr th {\n        vertical-align: top;\n    }\n\n    .dataframe thead th {\n        text-align: right;\n    }\n</style>\n<table border=\"1\" class=\"dataframe\">\n  <thead>\n    <tr style=\"text-align: right;\">\n      <th></th>\n      <th>Unnamed: 0</th>\n      <th>City</th>\n      <th>Cloudiness</th>\n      <th>Country</th>\n      <th>Date</th>\n      <th>Humidity</th>\n      <th>Lat</th>\n      <th>Lng</th>\n      <th>Max Temp</th>\n      <th>Wind Speed</th>\n    </tr>\n  </thead>\n  <tbody>\n    <tr>\n      <th>0</th>\n      <td>3</td>\n      <td>Rikitea</td>\n      <td>0</td>\n      <td>PF</td>\n      <td>1597780297</td>\n      <td>79</td>\n      <td>-23.12</td>\n      <td>-134.97</td>\n      <td>72.05</td>\n      <td>10.85</td>\n    </tr>\n    <tr>\n      <th>1</th>\n      <td>27</td>\n      <td>Faanui</td>\n      <td>0</td>\n      <td>PF</td>\n      <td>1597780202</td>\n      <td>78</td>\n      <td>-16.48</td>\n      <td>-151.75</td>\n      <td>78.30</td>\n      <td>18.34</td>\n    </tr>\n    <tr>\n      <th>2</th>\n      <td>122</td>\n      <td>Safi</td>\n      <td>0</td>\n      <td>MA</td>\n      <td>1597780318</td>\n      <td>79</td>\n      <td>32.30</td>\n      <td>-9.24</td>\n      <td>72.01</td>\n      <td>19.80</td>\n    </tr>\n    <tr>\n      <th>3</th>\n      <td>124</td>\n      <td>Malanje</td>\n      <td>0</td>\n      <td>AO</td>\n      <td>1597780319</td>\n      <td>45</td>\n      <td>-9.54</td>\n      <td>16.34</td>\n      <td>70.65</td>\n      <td>6.91</td>\n    </tr>\n    <tr>\n      <th>4</th>\n      <td>168</td>\n      <td>Lata</td>\n      <td>0</td>\n      <td>PT</td>\n      <td>1597780326</td>\n      <td>67</td>\n      <td>40.16</td>\n      <td>-8.33</td>\n      <td>73.99</td>\n      <td>5.99</td>\n    </tr>\n  </tbody>\n</table>\n</div>"
     },
     "metadata": {},
     "execution_count": 5
    }
   ],
   "source": [
    "poss_cities_df = cities.loc[(cities['Max Temp'] > 70) & (cities['Max Temp'] < 80) & (cities['Cloudiness'] == 0), :]\n",
    "poss_cities_df = poss_cities_df.dropna(how='any')\n",
    "poss_cities_df.reset_index(inplace=True)\n",
    "del poss_cities_df['index']\n",
    "hotel_df = poss_cities_df\n",
    "hotel_df.head()"
   ]
  },
  {
   "cell_type": "markdown",
   "metadata": {},
   "source": [
    "### Hotel Map\n",
    "* Store into variable named `hotel_df`.\n",
    "* Add a \"Hotel Name\" column to the DataFrame.\n",
    "* Set parameters to search for hotels with 5000 meters.\n",
    "* Hit the Google Places API for each city's coordinates.\n",
    "* Store the first Hotel result into the DataFrame.\n",
    "* Plot markers on top of the heatmap."
   ]
  },
  {
   "cell_type": "code",
   "execution_count": 6,
   "metadata": {},
   "outputs": [
    {
     "output_type": "execute_result",
     "data": {
      "text/plain": "   Unnamed: 0     City  Cloudiness Country        Date  Humidity    Lat  \\\n0           3  Rikitea           0      PF  1597780297        79 -23.12   \n1          27   Faanui           0      PF  1597780202        78 -16.48   \n2         122     Safi           0      MA  1597780318        79  32.30   \n3         124  Malanje           0      AO  1597780319        45  -9.54   \n4         168     Lata           0      PT  1597780326        67  40.16   \n\n      Lng  Max Temp  Wind Speed Hotel Name  \n0 -134.97     72.05       10.85             \n1 -151.75     78.30       18.34             \n2   -9.24     72.01       19.80             \n3   16.34     70.65        6.91             \n4   -8.33     73.99        5.99             ",
      "text/html": "<div>\n<style scoped>\n    .dataframe tbody tr th:only-of-type {\n        vertical-align: middle;\n    }\n\n    .dataframe tbody tr th {\n        vertical-align: top;\n    }\n\n    .dataframe thead th {\n        text-align: right;\n    }\n</style>\n<table border=\"1\" class=\"dataframe\">\n  <thead>\n    <tr style=\"text-align: right;\">\n      <th></th>\n      <th>Unnamed: 0</th>\n      <th>City</th>\n      <th>Cloudiness</th>\n      <th>Country</th>\n      <th>Date</th>\n      <th>Humidity</th>\n      <th>Lat</th>\n      <th>Lng</th>\n      <th>Max Temp</th>\n      <th>Wind Speed</th>\n      <th>Hotel Name</th>\n    </tr>\n  </thead>\n  <tbody>\n    <tr>\n      <th>0</th>\n      <td>3</td>\n      <td>Rikitea</td>\n      <td>0</td>\n      <td>PF</td>\n      <td>1597780297</td>\n      <td>79</td>\n      <td>-23.12</td>\n      <td>-134.97</td>\n      <td>72.05</td>\n      <td>10.85</td>\n      <td></td>\n    </tr>\n    <tr>\n      <th>1</th>\n      <td>27</td>\n      <td>Faanui</td>\n      <td>0</td>\n      <td>PF</td>\n      <td>1597780202</td>\n      <td>78</td>\n      <td>-16.48</td>\n      <td>-151.75</td>\n      <td>78.30</td>\n      <td>18.34</td>\n      <td></td>\n    </tr>\n    <tr>\n      <th>2</th>\n      <td>122</td>\n      <td>Safi</td>\n      <td>0</td>\n      <td>MA</td>\n      <td>1597780318</td>\n      <td>79</td>\n      <td>32.30</td>\n      <td>-9.24</td>\n      <td>72.01</td>\n      <td>19.80</td>\n      <td></td>\n    </tr>\n    <tr>\n      <th>3</th>\n      <td>124</td>\n      <td>Malanje</td>\n      <td>0</td>\n      <td>AO</td>\n      <td>1597780319</td>\n      <td>45</td>\n      <td>-9.54</td>\n      <td>16.34</td>\n      <td>70.65</td>\n      <td>6.91</td>\n      <td></td>\n    </tr>\n    <tr>\n      <th>4</th>\n      <td>168</td>\n      <td>Lata</td>\n      <td>0</td>\n      <td>PT</td>\n      <td>1597780326</td>\n      <td>67</td>\n      <td>40.16</td>\n      <td>-8.33</td>\n      <td>73.99</td>\n      <td>5.99</td>\n      <td></td>\n    </tr>\n  </tbody>\n</table>\n</div>"
     },
     "metadata": {},
     "execution_count": 6
    }
   ],
   "source": [
    "hotellist = []\n",
    "\n",
    "for i in range(len(hotel_df)):\n",
    "    \n",
    "    lat = hotel_df.loc[i]['Lat']\n",
    "    lng = hotel_df.loc[i]['Lng']\n",
    "    \n",
    "    params = {\n",
    "        \"location\": f\"{lat},{lng}\",\n",
    "        \"radius\": 5000,\n",
    "        \"types\" : \"hotel\",\n",
    "        \"key\": g_key\n",
    "    }\n",
    "\n",
    "    base_url = \"https://maps.googleapis.com/maps/api/place/nearbysearch/json\"\n",
    "    request = requests.get(base_url, params=params)\n",
    "    json = request.json()\n",
    "    try:\n",
    "        hotellist.append(jsn['results'][0]['name'])\n",
    "    except:\n",
    "        hotellist.append('')\n",
    "hotel_df['Hotel Name'] = hotellist\n",
    "hotel_df = hotel_df.dropna(how='any')\n",
    "hotel_df.head()"
   ]
  },
  {
   "cell_type": "code",
   "execution_count": 7,
   "metadata": {},
   "outputs": [],
   "source": [
    "# NOTE: Do not change any of the code in this cell\n",
    "\n",
    "# Using the template add the hotel marks to the heatmap\n",
    "info_box_template = \"\"\"\n",
    "<dl>\n",
    "<dt>Name</dt><dd>{Hotel Name}</dd>\n",
    "<dt>City</dt><dd>{City}</dd>\n",
    "<dt>Country</dt><dd>{Country}</dd>\n",
    "</dl>\n",
    "\"\"\"\n",
    "# Store the DataFrame Row\n",
    "# NOTE: be sure to update with your DataFrame name\n",
    "hotel_info = [info_box_template.format(**row) for index, row in hotel_df.iterrows()]\n",
    "locations = hotel_df[[\"Lat\", \"Lng\"]]"
   ]
  },
  {
   "cell_type": "code",
   "execution_count": 10,
   "metadata": {},
   "outputs": [
    {
     "output_type": "display_data",
     "data": {
      "text/plain": "Figure(layout=FigureLayout(height='420px'))",
      "application/vnd.jupyter.widget-view+json": {
       "version_major": 2,
       "version_minor": 0,
       "model_id": "1f19ecb87e47433e93a69a12278bb555"
      }
     },
     "metadata": {}
    }
   ],
   "source": [
    "# Add marker layer ontop of heat map\n",
    "markers = gmaps.marker_layer(locats)\n",
    "fig.add_layer(markers)\n",
    "fig\n"
   ]
  },
  {
   "cell_type": "code",
   "execution_count": null,
   "metadata": {},
   "outputs": [],
   "source": []
  },
  {
   "cell_type": "code",
   "execution_count": null,
   "metadata": {},
   "outputs": [],
   "source": []
  }
 ],
 "metadata": {
  "kernelspec": {
   "display_name": "Python 3.6.10 64-bit ('PythonData': conda)",
   "language": "python",
   "name": "python_defaultSpec_1597798083221"
  },
  "language_info": {
   "codemirror_mode": {
    "name": "ipython",
    "version": 3
   },
   "file_extension": ".py",
   "mimetype": "text/x-python",
   "name": "python",
   "nbconvert_exporter": "python",
   "pygments_lexer": "ipython3",
   "version": "3.6.10-final"
  },
  "latex_envs": {
   "LaTeX_envs_menu_present": true,
   "autoclose": false,
   "autocomplete": true,
   "bibliofile": "biblio.bib",
   "cite_by": "apalike",
   "current_citInitial": 1,
   "eqLabelWithNumbers": true,
   "eqNumInitial": 1,
   "hotkeys": {
    "equation": "Ctrl-E",
    "itemize": "Ctrl-I"
   },
   "labels_anchors": false,
   "latex_user_defs": false,
   "report_style_numbering": false,
   "user_envs_cfg": false
  }
 },
 "nbformat": 4,
 "nbformat_minor": 2
}